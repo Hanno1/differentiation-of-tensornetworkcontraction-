{
 "cells": [
  {
   "cell_type": "markdown",
   "metadata": {},
   "source": [
    "### Differentiation of tensor networks\n",
    "\n",
    "This notebook describes examples on how to use differentiation to get the argmax of a tensornetwork. Each axis has to have only 2 dimensions!"
   ]
  },
  {
   "cell_type": "code",
   "execution_count": 17,
   "metadata": {},
   "outputs": [],
   "source": [
    "import torch\n",
    "import tensor"
   ]
  },
  {
   "cell_type": "markdown",
   "metadata": {},
   "source": [
    "A Tensor can be created using a serialized form. \n",
    "1. tensor in serialized form:\n",
    "<br>\n",
    "- the value $(i_1, ... , i_k)$ in the Tensor is in place $\\sum _{j=1} ^k i_j\\cdot 2^{j-1}$ in the serialization\n",
    "<br>\n",
    "2. tensor with single axis:\n",
    "<br>\n",
    "- t = torch.tensor([a, b], dtype=torch.float32, requires_grad=True)\n",
    "<br>\n",
    "3. tensors with multiple axis:\n",
    "<br>\n",
    "- t = torch.tensor([serialized form of t])\n",
    "- you dont need a gradient for this since only the derivatives of the single axis matter\n",
    "<br>\n",
    "4. reshaping:\n",
    "<br>\n",
    "- for every tensor, reshape it using the function tensor.get_torch_tensor(t, axis)\n",
    "- axis is a list containing all axises of the tensor. If its a single axis k, just use [k]\n",
    "- if you have multiple axis, use [k_1, ..., k_n]\n",
    "<br>\n",
    "5. tensornetwork:\n",
    "<br>\n",
    "- create the tensornetwork containing all reshaped tensors"
   ]
  },
  {
   "cell_type": "code",
   "execution_count": 3,
   "metadata": {},
   "outputs": [],
   "source": [
    "t_1 = torch.tensor([0, 1], dtype=torch.float32, requires_grad=True)\n",
    "x_1 = tensor.get_torch_tensor(t_1, [1])\n",
    "\n",
    "t_2 = torch.tensor([0, 2], dtype=torch.float32, requires_grad=True)\n",
    "x_2 = tensor.get_torch_tensor(t_2, [2])\n",
    "\n",
    "t_3 = torch.tensor([0, 1], dtype=torch.float32, requires_grad=True)\n",
    "x_3 = tensor.get_torch_tensor(t_3, [3])\n",
    "\n",
    "t_12 = torch.tensor([0, 0, 0, -3])\n",
    "x_12 = tensor.get_torch_tensor(t_12, [1, 2])\n",
    "\n",
    "t_23 = torch.tensor([0, 0, 0, 2])\n",
    "x_23 = tensor.get_torch_tensor(t_23, [2, 3])\n",
    "\n",
    "t_13 = torch.tensor([0, 0, 0, 1])\n",
    "x_13 = tensor.get_torch_tensor(t_13, [1, 3])\n",
    "\n",
    "tn = [x_1, x_2, x_3, x_12, x_23, x_13]"
   ]
  },
  {
   "cell_type": "markdown",
   "metadata": {},
   "source": [
    "Now we can combine the tensornetwork and aggregate it. To get the derivative just use 'aggregation.backward()'"
   ]
  },
  {
   "cell_type": "code",
   "execution_count": 4,
   "metadata": {},
   "outputs": [],
   "source": [
    "c = tensor.combine(tn)\n",
    "a = tensor.aggregate(c)\n",
    "\n",
    "a.backward()"
   ]
  },
  {
   "cell_type": "markdown",
   "metadata": {},
   "source": [
    "get the gradients of the single axis tensors"
   ]
  },
  {
   "cell_type": "code",
   "execution_count": 6,
   "metadata": {},
   "outputs": [
    {
     "name": "stdout",
     "output_type": "stream",
     "text": [
      "tensor([1., 0.]) tensor([0., 1.]) tensor([0., 1.])\n"
     ]
    }
   ],
   "source": [
    "print(t_1.grad, t_2.grad, t_3.grad)"
   ]
  },
  {
   "cell_type": "markdown",
   "metadata": {},
   "source": [
    "### multiple Maxima\n",
    "\n",
    "an example without a unique maximum. The algorithm chooses one configuration. The configuration seems to be always the same."
   ]
  },
  {
   "cell_type": "code",
   "execution_count": 13,
   "metadata": {},
   "outputs": [],
   "source": [
    "t_1 = torch.tensor([0, 1], dtype=torch.float, requires_grad=True)\n",
    "t_2 = torch.tensor([0, 1], dtype=torch.float, requires_grad=True)\n",
    "t_12 = torch.tensor([0, 0, 0, -1], dtype=torch.float, requires_grad=True)\n",
    "\n",
    "x_1 = tensor.get_torch_tensor(t_1, [1])\n",
    "x_2 = tensor.get_torch_tensor(t_2, [2])\n",
    "x_12 = tensor.get_torch_tensor(t_12, [1, 2])\n",
    "\n",
    "tn = [x_1, x_2, x_12]"
   ]
  },
  {
   "cell_type": "code",
   "execution_count": 14,
   "metadata": {},
   "outputs": [],
   "source": [
    "c = tensor.combine(tn)\n",
    "a = tensor.aggregate(c)\n",
    "\n",
    "a.backward()"
   ]
  },
  {
   "cell_type": "code",
   "execution_count": 15,
   "metadata": {},
   "outputs": [
    {
     "name": "stdout",
     "output_type": "stream",
     "text": [
      "tensor([0., 1.]) tensor([1., 0.])\n"
     ]
    }
   ],
   "source": [
    "print(t_1.grad, t_2.grad)"
   ]
  },
  {
   "cell_type": "code",
   "execution_count": null,
   "metadata": {},
   "outputs": [],
   "source": []
  }
 ],
 "metadata": {
  "kernelspec": {
   "display_name": "Python 3",
   "language": "python",
   "name": "python3"
  },
  "language_info": {
   "codemirror_mode": {
    "name": "ipython",
    "version": 3
   },
   "file_extension": ".py",
   "mimetype": "text/x-python",
   "name": "python",
   "nbconvert_exporter": "python",
   "pygments_lexer": "ipython3",
   "version": "3.9.13"
  }
 },
 "nbformat": 4,
 "nbformat_minor": 2
}
