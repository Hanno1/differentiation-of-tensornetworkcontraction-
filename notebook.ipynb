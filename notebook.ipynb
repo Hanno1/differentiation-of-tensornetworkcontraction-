{
 "cells": [
  {
   "cell_type": "markdown",
   "metadata": {},
   "source": [
    "### Differentiation of tensor networks\n",
    "\n",
    "This notebook describes examples on how to use differentiation to get the argmax of a tensornetwork. Each axis has to have only 2 dimensions!"
   ]
  },
  {
   "cell_type": "code",
   "execution_count": 2,
   "metadata": {},
   "outputs": [],
   "source": [
    "import torch\n",
    "import tensor"
   ]
  },
  {
   "cell_type": "markdown",
   "metadata": {},
   "source": [
    "A Tensor can be created using a serialized form. \n",
    "1. tensor in serialized form:\n",
    "<br>\n",
    "- the value $(i_1, ... , i_k)$ in the Tensor is in place $\\sum _{j=1} ^k i_j\\cdot 2^{j-1}$ in the serialization\n",
    "<br>\n",
    "2. tensor with single axis:\n",
    "<br>\n",
    "- t = torch.tensor([a, b], dtype=torch.float32, requires_grad=True)\n",
    "<br>\n",
    "3. tensors with multiple axis:\n",
    "<br>\n",
    "- t = torch.tensor([serialized form of t])\n",
    "- you dont need a gradient for this since only the derivatives of the single axis matter\n",
    "<br>\n",
    "5. tensornetwork:\n",
    "<br>\n",
    "- create the tensornetwork containing all tensors\n",
    "<br>\n",
    "5. axis:\n",
    "<br>\n",
    "- create a list containing lists with all axis of the tensors (the same order as in the tensornetwork)\n",
    "<br>\n",
    "6. contraction:\n",
    "<br>\n",
    "- call tensor.full_contraction_easy(., ., .)\n",
    "- the first argument is a list of all tensors from which we want the derivative (these are the single axis tensors)\n",
    "- the second is the tensornetwork and the third argument are the axises of the tensors"
   ]
  },
  {
   "cell_type": "code",
   "execution_count": 3,
   "metadata": {},
   "outputs": [],
   "source": [
    "t_1 = torch.tensor([0, 1], dtype=torch.float32, requires_grad=True)\n",
    "t_2 = torch.tensor([0, 2], dtype=torch.float32, requires_grad=True)\n",
    "t_3 = torch.tensor([0, 1], dtype=torch.float32, requires_grad=True)\n",
    "t_12 = torch.tensor([0, 0, 0, -3])\n",
    "t_23 = torch.tensor([0, 0, 0, 2])\n",
    "t_13 = torch.tensor([0, 0, 0, 1])"
   ]
  },
  {
   "cell_type": "code",
   "execution_count": 4,
   "metadata": {},
   "outputs": [
    {
     "name": "stdout",
     "output_type": "stream",
     "text": [
      "[tensor([1., 0.]), tensor([0., 1.]), tensor([0., 1.])]\n"
     ]
    }
   ],
   "source": [
    "tn = [t_1, t_2, t_3, t_12, t_23, t_13]\n",
    "tn_axis = [[1], [2], [3], [1, 2], [2, 3], [1, 3]]\n",
    "print(tensor.full_contraction_easy([t_1, t_2, t_3], tn, tn_axis))"
   ]
  },
  {
   "cell_type": "markdown",
   "metadata": {},
   "source": [
    "### multiple Maxima\n",
    "\n",
    "an example without a unique maximum. The algorithm chooses one configuration. The configuration seems to be always the same."
   ]
  },
  {
   "cell_type": "code",
   "execution_count": 5,
   "metadata": {},
   "outputs": [],
   "source": [
    "t_1 = torch.tensor([0, 1], dtype=torch.float, requires_grad=True)\n",
    "t_2 = torch.tensor([0, 1], dtype=torch.float, requires_grad=True)\n",
    "t_12 = torch.tensor([0, 0, 0, -1], dtype=torch.float, requires_grad=True)"
   ]
  },
  {
   "cell_type": "code",
   "execution_count": 6,
   "metadata": {},
   "outputs": [
    {
     "name": "stdout",
     "output_type": "stream",
     "text": [
      "[tensor([0., 1.]), tensor([1., 0.])]\n"
     ]
    }
   ],
   "source": [
    "tn = [t_1, t_2, t_12]\n",
    "tn_axis = [[1], [2], [1, 2]]\n",
    "print(tensor.full_contraction_easy([t_1, t_2], tn, tn_axis))"
   ]
  },
  {
   "cell_type": "markdown",
   "metadata": {},
   "source": [
    "### second method for contraction\n",
    "\n",
    "there are a lot of different possibilities for the contraction of a tensornetwork. The method above is the easiest to implement, but it should also be the slowest. You can use combination and aggregation for a single axis and this should be faster."
   ]
  },
  {
   "cell_type": "code",
   "execution_count": 7,
   "metadata": {},
   "outputs": [
    {
     "name": "stdout",
     "output_type": "stream",
     "text": [
      "[tensor([0., 1.]), tensor([1., 0.])]\n"
     ]
    }
   ],
   "source": [
    "t_1 = torch.tensor([0, 1], dtype=torch.float, requires_grad=True)\n",
    "t_2 = torch.tensor([0, 1], dtype=torch.float, requires_grad=True)\n",
    "t_12 = torch.tensor([0, 0, 0, -1], dtype=torch.float, requires_grad=True)\n",
    "\n",
    "tn = [t_1, t_2, t_12]\n",
    "tn_axis = [[1], [2], [1, 2]]\n",
    "max_axis = 2\n",
    "\n",
    "print(tensor.full_contraction_complicated([t_1, t_2], tn, tn_axis, max_axis))"
   ]
  },
  {
   "cell_type": "code",
   "execution_count": 8,
   "metadata": {},
   "outputs": [
    {
     "name": "stdout",
     "output_type": "stream",
     "text": [
      "[tensor([1., 0.]), tensor([0., 1.]), tensor([0., 1.])]\n"
     ]
    }
   ],
   "source": [
    "t_1 = torch.tensor([0, 1], dtype=torch.float32, requires_grad=True)\n",
    "t_2 = torch.tensor([0, 2], dtype=torch.float32, requires_grad=True)\n",
    "t_3 = torch.tensor([0, 1], dtype=torch.float32, requires_grad=True)\n",
    "t_12 = torch.tensor([0, 0, 0, -3])\n",
    "t_23 = torch.tensor([0, 0, 0, 2])\n",
    "t_13 = torch.tensor([0, 0, 0, 1])\n",
    "\n",
    "tn = [t_1, t_2, t_3, t_12, t_23, t_13]\n",
    "tn_axis = [[1], [2], [3], [1, 2], [2, 3], [1, 3]]\n",
    "max_axis = 3\n",
    "\n",
    "print(tensor.full_contraction_complicated([t_1, t_2, t_3], tn, tn_axis, max_axis))"
   ]
  },
  {
   "cell_type": "markdown",
   "metadata": {},
   "source": [
    "Comparing the time of both approaches:"
   ]
  },
  {
   "cell_type": "code",
   "execution_count": 9,
   "metadata": {},
   "outputs": [],
   "source": [
    "import time\n",
    "import random\n",
    "import itertools as it"
   ]
  },
  {
   "cell_type": "code",
   "execution_count": 10,
   "metadata": {},
   "outputs": [],
   "source": [
    "def create_tensornetwork(max_axis, lower=-10, upper=10):\n",
    "    # create big tensornetwork\n",
    "    axis_list = [str(i + 1) for i in range(max_axis)]\n",
    "\n",
    "    # create 2 dimensional tensors\n",
    "    tn = []\n",
    "    tn_axis = []\n",
    "    simple_tensors = []\n",
    "    for i in range(max_axis):\n",
    "        t = torch.tensor([0, random.randint(lower, upper)], dtype=torch.float32, requires_grad=True)\n",
    "        tn.append(t)\n",
    "        simple_tensors.append(t)\n",
    "        tn_axis.append([i + 1])\n",
    "\n",
    "    # create 3 dimensional tensors\n",
    "    for i in range(2, 10):\n",
    "        comb = list(it.combinations(axis_list, i))\n",
    "        for p in comb:\n",
    "            l = [0 for _ in range(2**i)]\n",
    "            l[-1] = random.randint(lower, upper)\n",
    "            t = torch.tensor(l, dtype=torch.float32, requires_grad=True)\n",
    "            tn.append(t)\n",
    "\n",
    "            axis = [int(i) for i in list(p)]\n",
    "            tn_axis.append(axis)\n",
    "\n",
    "    return simple_tensors, tn, tn_axis"
   ]
  },
  {
   "cell_type": "code",
   "execution_count": 13,
   "metadata": {},
   "outputs": [
    {
     "name": "stdout",
     "output_type": "stream",
     "text": [
      "time for slow contraction: 0.6161455869674682, time for fast contraction: 0.46728992462158203\n"
     ]
    }
   ],
   "source": [
    "n = 20\n",
    "max_axis = 12\n",
    "\n",
    "t_1 = 0\n",
    "t_2 = 0\n",
    "for _ in range(n):\n",
    "    simple_tensors, tn, tn_axis = create_tensornetwork(max_axis)\n",
    "\n",
    "    start = time.time()\n",
    "    tensor.full_contraction_easy(simple_tensors, tn, tn_axis)\n",
    "    end = time.time()\n",
    "    t_1 += end - start\n",
    "\n",
    "    start = time.time()\n",
    "    tensor.full_contraction_complicated(simple_tensors, tn, tn_axis, max_axis)\n",
    "    end = time.time()\n",
    "    t_2 += end - start\n",
    "\n",
    "t_1 /= n    \n",
    "t_2 /= n\n",
    "\n",
    "print(f\"time for slow contraction: {t_1}, time for fast contraction: {t_2}\")"
   ]
  },
  {
   "cell_type": "code",
   "execution_count": null,
   "metadata": {},
   "outputs": [],
   "source": []
  }
 ],
 "metadata": {
  "kernelspec": {
   "display_name": "Python 3",
   "language": "python",
   "name": "python3"
  },
  "language_info": {
   "codemirror_mode": {
    "name": "ipython",
    "version": 3
   },
   "file_extension": ".py",
   "mimetype": "text/x-python",
   "name": "python",
   "nbconvert_exporter": "python",
   "pygments_lexer": "ipython3",
   "version": "3.9.13"
  }
 },
 "nbformat": 4,
 "nbformat_minor": 2
}
