{
 "cells": [
  {
   "cell_type": "markdown",
   "metadata": {},
   "source": [
    "### Differentiation of tensor networks\n",
    "\n",
    "This notebook describes examples on how to use differentiation to get the argmax of a tensornetwork. Each axis has to have only 2 dimensions!"
   ]
  },
  {
   "cell_type": "code",
   "execution_count": 1,
   "metadata": {},
   "outputs": [],
   "source": [
    "import torch\n",
    "import tensor"
   ]
  },
  {
   "cell_type": "markdown",
   "metadata": {},
   "source": [
    "A Tensor can be created using a serialized form. \n",
    "1. tensor in serialized form:\n",
    "<br>\n",
    "- the value $(i_1, ... , i_k)$ in the Tensor is in place $\\sum _{j=1} ^k i_j\\cdot 2^{j-1}$ in the serialization\n",
    "<br>\n",
    "2. tensor with single axis:\n",
    "<br>\n",
    "- t = torch.tensor([a, b], dtype=torch.float32, requires_grad=True)\n",
    "<br>\n",
    "3. tensors with multiple axis:\n",
    "<br>\n",
    "- t = torch.tensor([serialized form of t])\n",
    "- you dont need a gradient for this since only the derivatives of the single axis matter\n",
    "<br>\n",
    "5. tensornetwork:\n",
    "<br>\n",
    "- create the tensornetwork containing all tensors\n",
    "<br>\n",
    "5. axis:\n",
    "<br>\n",
    "- create a list containing lists with all axis of the tensors (the same order as in the tensornetwork)\n",
    "<br>\n",
    "6. contraction:\n",
    "<br>\n",
    "- call tensor.full_contraction_easy(., ., .)\n",
    "- the first argument is a list of all tensors from which we want the derivative (these are the single axis tensors)\n",
    "- the second is the tensornetwork and the third argument are the axises of the tensors"
   ]
  },
  {
   "cell_type": "code",
   "execution_count": 2,
   "metadata": {},
   "outputs": [],
   "source": [
    "t_1 = torch.tensor([0, 1], dtype=torch.float32, requires_grad=True)\n",
    "t_2 = torch.tensor([0, 2], dtype=torch.float32, requires_grad=True)\n",
    "t_3 = torch.tensor([0, 1], dtype=torch.float32, requires_grad=True)\n",
    "t_12 = torch.tensor([0, 0, 0, -3])\n",
    "t_23 = torch.tensor([0, 0, 0, 2])\n",
    "t_13 = torch.tensor([0, 0, 0, 1])"
   ]
  },
  {
   "cell_type": "code",
   "execution_count": 3,
   "metadata": {},
   "outputs": [
    {
     "name": "stdout",
     "output_type": "stream",
     "text": [
      "[tensor([1., 0.]), tensor([0., 1.]), tensor([0., 1.])]\n"
     ]
    }
   ],
   "source": [
    "tn = [t_1, t_2, t_3, t_12, t_23, t_13]\n",
    "tn_axis = [[1], [2], [3], [1, 2], [2, 3], [1, 3]]\n",
    "print(tensor.full_contraction_easy([t_1, t_2, t_3], tn, tn_axis))"
   ]
  },
  {
   "cell_type": "markdown",
   "metadata": {},
   "source": [
    "### multiple Maxima\n",
    "\n",
    "an example without a unique maximum. The algorithm chooses one configuration. The configuration seems to be always the same."
   ]
  },
  {
   "cell_type": "code",
   "execution_count": 4,
   "metadata": {},
   "outputs": [],
   "source": [
    "t_1 = torch.tensor([0, 1], dtype=torch.float, requires_grad=True)\n",
    "t_2 = torch.tensor([0, 1], dtype=torch.float, requires_grad=True)\n",
    "t_12 = torch.tensor([0, 0, 0, -1], dtype=torch.float, requires_grad=True)"
   ]
  },
  {
   "cell_type": "code",
   "execution_count": 5,
   "metadata": {},
   "outputs": [
    {
     "name": "stdout",
     "output_type": "stream",
     "text": [
      "[tensor([0., 1.]), tensor([1., 0.])]\n"
     ]
    }
   ],
   "source": [
    "tn = [t_1, t_2, t_12]\n",
    "tn_axis = [[1], [2], [1, 2]]\n",
    "print(tensor.full_contraction_easy([t_1, t_2], tn, tn_axis))"
   ]
  },
  {
   "cell_type": "markdown",
   "metadata": {},
   "source": [
    "### second method for contraction\n",
    "\n",
    "there are a lot of different possibilities for the contraction of a tensornetwork. The method above is the easiest to implement, but it should also be the slowest. You can use combination and aggregation for a single axis and this should be faster."
   ]
  },
  {
   "cell_type": "code",
   "execution_count": 6,
   "metadata": {},
   "outputs": [
    {
     "name": "stdout",
     "output_type": "stream",
     "text": [
      "[tensor([0., 1.]), tensor([1., 0.])]\n"
     ]
    }
   ],
   "source": [
    "t_1 = torch.tensor([0, 1], dtype=torch.float, requires_grad=True)\n",
    "t_2 = torch.tensor([0, 1], dtype=torch.float, requires_grad=True)\n",
    "t_12 = torch.tensor([0, 0, 0, -1], dtype=torch.float, requires_grad=True)\n",
    "\n",
    "tn = [t_1, t_2, t_12]\n",
    "tn_axis = [[1], [2], [1, 2]]\n",
    "max_axis = 2\n",
    "\n",
    "print(tensor.full_contraction_complicated([t_1, t_2], tn, tn_axis, max_axis))"
   ]
  },
  {
   "cell_type": "code",
   "execution_count": 7,
   "metadata": {},
   "outputs": [
    {
     "name": "stdout",
     "output_type": "stream",
     "text": [
      "[tensor([1., 0.]), tensor([0., 1.]), tensor([0., 1.])]\n"
     ]
    }
   ],
   "source": [
    "t_1 = torch.tensor([0, 1], dtype=torch.float32, requires_grad=True)\n",
    "t_2 = torch.tensor([0, 2], dtype=torch.float32, requires_grad=True)\n",
    "t_3 = torch.tensor([0, 1], dtype=torch.float32, requires_grad=True)\n",
    "t_12 = torch.tensor([0, 0, 0, -3])\n",
    "t_23 = torch.tensor([0, 0, 0, 2])\n",
    "t_13 = torch.tensor([0, 0, 0, 1])\n",
    "\n",
    "tn = [t_1, t_2, t_3, t_12, t_23, t_13]\n",
    "tn_axis = [[1], [2], [3], [1, 2], [2, 3], [1, 3]]\n",
    "max_axis = 3\n",
    "\n",
    "print(tensor.full_contraction_complicated([t_1, t_2, t_3], tn, tn_axis, max_axis))"
   ]
  },
  {
   "cell_type": "markdown",
   "metadata": {},
   "source": [
    "Comparing the time of both approaches:"
   ]
  },
  {
   "cell_type": "code",
   "execution_count": 8,
   "metadata": {},
   "outputs": [
    {
     "name": "stdout",
     "output_type": "stream",
     "text": [
      "Starting Iteration  0\n",
      "time for slow contraction: 0.014981746673583984. The derivative needed 0.008934736251831055 time, time for fast contraction: 0.013552188873291016. The derivative needed 0.008037328720092773 time\n",
      "time for computation: easy contraction 0.00604701042175293, complicated contraction 0.005514860153198242\n"
     ]
    }
   ],
   "source": [
    "t_1, d_1, t_2, d_2 = tensor.compare_algorithms(1, 8)\n",
    "\n",
    "print(f\"time for slow contraction: {t_1}. The derivative needed {d_1} time, time for fast contraction: {t_2}. The derivative needed {d_2} time\")\n",
    "print(f\"time for computation: easy contraction {t_1 - d_1}, complicated contraction {t_2 - d_2}\")"
   ]
  },
  {
   "cell_type": "code",
   "execution_count": 12,
   "metadata": {},
   "outputs": [
    {
     "name": "stdout",
     "output_type": "stream",
     "text": [
      "Starting with axis:  1\n",
      "Starting Iteration  0\n",
      "Starting Iteration  1\n",
      "Starting Iteration  2\n",
      "Starting Iteration  3\n",
      "Starting Iteration  4\n",
      "Starting Iteration  5\n",
      "Starting Iteration  6\n",
      "Starting Iteration  7\n",
      "Starting Iteration  8\n",
      "Starting Iteration  9\n",
      "Starting with axis:  2\n",
      "Starting Iteration  0\n",
      "Starting Iteration  1\n",
      "Starting Iteration  2\n",
      "Starting Iteration  3\n",
      "Starting Iteration  4\n",
      "Starting Iteration  5\n",
      "Starting Iteration  6\n",
      "Starting Iteration  7\n",
      "Starting Iteration  8\n",
      "Starting Iteration  9\n",
      "Starting with axis:  3\n",
      "Starting Iteration  0\n",
      "Starting Iteration  1\n",
      "Starting Iteration  2\n",
      "Starting Iteration  3\n",
      "Starting Iteration  4\n",
      "Starting Iteration  5\n",
      "Starting Iteration  6\n",
      "Starting Iteration  7\n",
      "Starting Iteration  8\n",
      "Starting Iteration  9\n",
      "Starting with axis:  4\n",
      "Starting Iteration  0\n",
      "Starting Iteration  1\n",
      "Starting Iteration  2\n",
      "Starting Iteration  3\n",
      "Starting Iteration  4\n",
      "Starting Iteration  5\n",
      "Starting Iteration  6\n",
      "Starting Iteration  7\n",
      "Starting Iteration  8\n",
      "Starting Iteration  9\n",
      "Starting with axis:  5\n",
      "Starting Iteration  0\n",
      "Starting Iteration  1\n",
      "Starting Iteration  2\n",
      "Starting Iteration  3\n",
      "Starting Iteration  4\n",
      "Starting Iteration  5\n",
      "Starting Iteration  6\n",
      "Starting Iteration  7\n",
      "Starting Iteration  8\n",
      "Starting Iteration  9\n",
      "Starting with axis:  6\n",
      "Starting Iteration  0\n",
      "Starting Iteration  1\n",
      "Starting Iteration  2\n",
      "Starting Iteration  3\n",
      "Starting Iteration  4\n",
      "Starting Iteration  5\n",
      "Starting Iteration  6\n",
      "Starting Iteration  7\n",
      "Starting Iteration  8\n",
      "Starting Iteration  9\n",
      "Starting with axis:  7\n",
      "Starting Iteration  0\n",
      "Starting Iteration  1\n",
      "Starting Iteration  2\n",
      "Starting Iteration  3\n",
      "Starting Iteration  4\n",
      "Starting Iteration  5\n",
      "Starting Iteration  6\n",
      "Starting Iteration  7\n",
      "Starting Iteration  8\n",
      "Starting Iteration  9\n",
      "Starting with axis:  8\n",
      "Starting Iteration  0\n",
      "Starting Iteration  1\n",
      "Starting Iteration  2\n",
      "Starting Iteration  3\n",
      "Starting Iteration  4\n",
      "Starting Iteration  5\n",
      "Starting Iteration  6\n",
      "Starting Iteration  7\n",
      "Starting Iteration  8\n",
      "Starting Iteration  9\n",
      "Starting with axis:  9\n",
      "Starting Iteration  0\n",
      "Starting Iteration  1\n",
      "Starting Iteration  2\n",
      "Starting Iteration  3\n",
      "Starting Iteration  4\n",
      "Starting Iteration  5\n",
      "Starting Iteration  6\n",
      "Starting Iteration  7\n",
      "Starting Iteration  8\n",
      "Starting Iteration  9\n",
      "Starting with axis:  10\n",
      "Starting Iteration  0\n",
      "Starting Iteration  1\n",
      "Starting Iteration  2\n",
      "Starting Iteration  3\n",
      "Starting Iteration  4\n",
      "Starting Iteration  5\n",
      "Starting Iteration  6\n",
      "Starting Iteration  7\n",
      "Starting Iteration  8\n",
      "Starting Iteration  9\n",
      "Starting with axis:  11\n",
      "Starting Iteration  0\n",
      "Starting Iteration  1\n",
      "Starting Iteration  2\n",
      "Starting Iteration  3\n",
      "Starting Iteration  4\n",
      "Starting Iteration  5\n",
      "Starting Iteration  6\n",
      "Starting Iteration  7\n",
      "Starting Iteration  8\n",
      "Starting Iteration  9\n",
      "Starting with axis:  12\n",
      "Starting Iteration  0\n",
      "Starting Iteration  1\n",
      "Starting Iteration  2\n",
      "Starting Iteration  3\n",
      "Starting Iteration  4\n",
      "Starting Iteration  5\n",
      "Starting Iteration  6\n",
      "Starting Iteration  7\n",
      "Starting Iteration  8\n",
      "Starting Iteration  9\n",
      "Starting with axis:  13\n",
      "Starting Iteration  0\n",
      "Starting Iteration  1\n",
      "Starting Iteration  2\n",
      "Starting Iteration  3\n",
      "Starting Iteration  4\n",
      "Starting Iteration  5\n",
      "Starting Iteration  6\n",
      "Starting Iteration  7\n",
      "Starting Iteration  8\n",
      "Starting Iteration  9\n",
      "Starting with axis:  14\n",
      "Starting Iteration  0\n",
      "Starting Iteration  1\n",
      "Starting Iteration  2\n",
      "Starting Iteration  3\n",
      "Starting Iteration  4\n",
      "Starting Iteration  5\n",
      "Starting Iteration  6\n",
      "Starting Iteration  7\n",
      "Starting Iteration  8\n",
      "Starting Iteration  9\n",
      "Starting with axis:  15\n",
      "Starting Iteration  0\n",
      "Starting Iteration  1\n",
      "Starting Iteration  2\n",
      "Starting Iteration  3\n",
      "Starting Iteration  4\n",
      "Starting Iteration  5\n",
      "Starting Iteration  6\n",
      "Starting Iteration  7\n",
      "Starting Iteration  8\n",
      "Starting Iteration  9\n",
      "Starting with axis:  16\n",
      "Starting Iteration  0\n",
      "Starting Iteration  1\n",
      "Starting Iteration  2\n",
      "Starting Iteration  3\n",
      "Starting Iteration  4\n",
      "Starting Iteration  5\n",
      "Starting Iteration  6\n",
      "Starting Iteration  7\n",
      "Starting Iteration  8\n",
      "Starting Iteration  9\n"
     ]
    },
    {
     "data": {
      "image/png": "[encoded data removed]",
      "text/plain": [
       "<Figure size 640x480 with 1 Axes>"
      ]
     },
     "metadata": {},
     "output_type": "display_data"
    }
   ],
   "source": [
    "import matplotlib.pyplot as plt\n",
    "\n",
    "def plot_time(n, max_axis):\n",
    "    x = [i for i in range(1, max_axis + 1)]\n",
    "    y_1 = []\n",
    "    y_2 = []\n",
    "    y_d_1 = []\n",
    "    y_d_2 = []\n",
    "    for i in range(1, max_axis + 1):\n",
    "        print(\"Starting with axis: \", i)\n",
    "\n",
    "        t_1, d_1, t_2, d_2 = tensor.compare_algorithms(n, i)\n",
    "        y_1.append(t_1)\n",
    "        y_2.append(t_2)\n",
    "        y_d_1.append(d_1)\n",
    "        y_d_2.append(d_2)\n",
    "\n",
    "    plt.plot(x, y_1, label=\"combination of all tensors\", color=\"red\")\n",
    "    plt.plot(x, y_2, label=\"combination of one axis\", color=\"blue\")\n",
    "    plt.plot(x, y_d_1, label=\"time for derivative\", color=\"red\", linestyle=\"dashed\")\n",
    "    plt.plot(x, y_d_2, label=\"time for derivative\", color=\"blue\", linestyle=\"dashed\")\n",
    "    plt.xlabel(\"max axis\")\n",
    "    plt.ylabel(\"time in seconds\")\n",
    "    plt.legend()\n",
    "    plt.show()\n",
    "\n",
    "    return y_1, y_2, y_d_1, y_d_2\n",
    "\n",
    "y_1, y_2, y_d_1, y_d_2 = plot_time(10, 16)"
   ]
  },
  {
   "cell_type": "code",
   "execution_count": null,
   "metadata": {},
   "outputs": [],
   "source": []
  }
 ],
 "metadata": {
  "kernelspec": {
   "display_name": "Python 3",
   "language": "python",
   "name": "python3"
  },
  "language_info": {
   "codemirror_mode": {
    "name": "ipython",
    "version": 3
   },
   "file_extension": ".py",
   "mimetype": "text/x-python",
   "name": "python",
   "nbconvert_exporter": "python",
   "pygments_lexer": "ipython3",
   "version": "3.9.13"
  }
 },
 "nbformat": 4,
 "nbformat_minor": 2
}
